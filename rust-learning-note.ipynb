{
 "cells": [
  {
   "cell_type": "markdown",
   "id": "81733df9",
   "metadata": {},
   "source": [
    "# Rust Learning Note\n",
    "\n",
    "# 1 Cargo\n",
    "\n",
    "略\n",
    "\n",
    "# 2 变量与数据类型\n",
    "\n",
    "## 2.1 变量与可变性"
   ]
  },
  {
   "cell_type": "code",
   "execution_count": 2,
   "id": "da8d92e2",
   "metadata": {
    "vscode": {
     "languageId": "rust"
    }
   },
   "outputs": [],
   "source": [
    "let     x:i8 = 1 ; //声明不可变变量\n",
    "let mut y:i8 = 3 ; //声明可变变量"
   ]
  },
  {
   "cell_type": "markdown",
   "id": "01c17cbe",
   "metadata": {},
   "source": [
    "> 常量：用const声明，大写字母+下划线，必须指定数据类型。编译时被赋值。\n",
    "\n",
    "> Q：可变变量，不可变变量和const的区别是什么？\n",
    "\n",
    "| **特性**     | **可变变量 (`mut`)** | **不可变变量（默认）** | **常量 (`const`)** |\n",
    "| ------------ | -------------------- | ---------------------- | ------------------ |\n",
    "| **可变性**   | 可修改               | 不可修改               | 不可修改           |\n",
    "| **作用域**   | 局部作用域           | 局部作用域             | 全局作用域         |\n",
    "| **初始化**   | 可延迟初始化         | 可延迟初始化           | 必须立即初始化     |\n",
    "| **内存分配** | 栈或堆               | 栈或堆                 | 编译时内联         |\n",
    "| **类型推断** | 支持                 | 支持                   | 不支持，需显式指定 |\n",
    "| **使用场景** | 需要改变值的场景     | 值不变的安全场景       | 全局常量或配置参数 |\n",
    "\n",
    "---\n",
    "\n",
    "> 变量遮蔽：通过 **`let`** 声明新的变量，只不过名称恰好与之前的相同，但是是完全不同的变量，位于不同内存空间\n",
    "\n",
    "## 2.2 基本数据类型\n",
    "\n",
    "- 数字可用 _ 分隔\n",
    "- f32 → 小数点后6位有效数字；f64 → 15位"
   ]
  },
  {
   "cell_type": "code",
   "execution_count": 4,
   "id": "7e37fb55",
   "metadata": {
    "vscode": {
     "languageId": "rust"
    }
   },
   "outputs": [],
   "source": [
    "let float1:f32 = 1.1;   //类型声明\n",
    "let float2     = 2.2f32;//类型后缀声明\n",
    "let float3     = 3.3;   //默认f64"
   ]
  },
  {
   "cell_type": "markdown",
   "id": "4087b70d",
   "metadata": {},
   "source": [
    "**Bool**"
   ]
  },
  {
   "cell_type": "code",
   "execution_count": 5,
   "id": "cd664983",
   "metadata": {
    "vscode": {
     "languageId": "rust"
    }
   },
   "outputs": [],
   "source": [
    "let t:bool = true; //显式声明\n",
    "let f      = false;//隐式声明"
   ]
  },
  {
   "cell_type": "markdown",
   "id": "3fc0ef35",
   "metadata": {},
   "source": [
    "**字符类型**\n",
    "\n",
    "略\n",
    "\n",
    "**范围类型**"
   ]
  },
  {
   "cell_type": "code",
   "execution_count": 6,
   "id": "dc28c7d0",
   "metadata": {
    "vscode": {
     "languageId": "rust"
    }
   },
   "outputs": [
    {
     "ename": "Error",
     "evalue": "expected function, found `std::ops::Range<{integer}>`",
     "output_type": "error",
     "traceback": [
      "(1..5) //左闭右开 1~4",
      "(1..=5)//闭区间   1~5",
      "\u001b[91m^^^^^^^\u001b[0m \u001b[94mcall expression requires function\u001b[0m",
      "(1..5) //左闭右开 1~4",
      "\u001b[91m^^^^^^\u001b[0m \u001b[94merror: expected function, found `std::ops::Range<{integer}>`\u001b[0m",
      "expected function, found `std::ops::Range<{integer}>`",
      "\u001b[1mhelp\u001b[0m: consider using a semicolon here to finish the statement\n\n;"
     ]
    }
   ],
   "source": [
    "\n",
    "(1..5) //左闭右开 1~4\n",
    "(1..=5)//闭区间   1~5\n",
    "//rev()方法 反转顺序\n",
    "(1..5).rev();  // 4 3 2 1\n",
    "//sum()方法 求和\n",
    "(1..=5).sum(); // 15"
   ]
  },
  {
   "cell_type": "markdown",
   "id": "93275025",
   "metadata": {},
   "source": [
    "## 2.3 复合数据类型\n",
    "\n",
    "**元组 Tuple**\n",
    "\n",
    "用小括号放在一起，长度固定，元素间逗号分隔。\n",
    "\n",
    "若显式指定数据类型，则元素个数必须与数据类型个数相同。\n",
    "\n",
    "用 “元组名.索引”访问"
   ]
  },
  {
   "cell_type": "code",
   "execution_count": 2,
   "id": "61665fc5",
   "metadata": {
    "vscode": {
     "languageId": "rust"
    }
   },
   "outputs": [
    {
     "name": "stdout",
     "output_type": "stream",
     "text": [
      "10\n",
      "The value of y is: 6.4\n"
     ]
    }
   ],
   "source": [
    "let tup: (i32, f64, u8) = (500, 6.4, 1);\n",
    "let tup2 = (7.7, (false, 10));\n",
    "println!(\"{}\", tup2.1.1);\n",
    "\n",
    "let (x, y, z) = tup; //模式匹配\n",
    "println!(\"The value of y is: {}\", y);\n"
   ]
  },
  {
   "cell_type": "markdown",
   "id": "0f79f5a0",
   "metadata": {},
   "source": [
    "**数组 Array**\n",
    "\n",
    "使用“数组名[索引]”访问；\n",
    "\n",
    "当你明确元素数量不需要改变时，数组会比**Vector（可变数组）**更有用"
   ]
  },
  {
   "cell_type": "code",
   "execution_count": 3,
   "id": "8ac741c7",
   "metadata": {
    "vscode": {
     "languageId": "rust"
    }
   },
   "outputs": [],
   "source": [
    "let arr:[i32;5] = [1, 2, 3, 4, 5];\n",
    "let arr         = [1, 2, 3, 4, 5];//类型推断\n",
    "let arr         = [1;5]; //等价于let arr = [1,1,1,1,1];"
   ]
  },
  {
   "cell_type": "markdown",
   "id": "a6c0ba75",
   "metadata": {},
   "source": [
    "> 数组使用无效值索引：导致**运行时**（*runtime*）错误\n",
    "\n",
    "**结构体**\n",
    "\n",
    "用“name:type”定义字段；字段默认不可变，要求明确指定数据类型，以逗号分隔，最后一个逗号可省略。\n",
    "\n",
    "字段初始化时，使用“name:value”格式"
   ]
  },
  {
   "cell_type": "code",
   "execution_count": 4,
   "id": "6ea58454",
   "metadata": {
    "vscode": {
     "languageId": "rust"
    }
   },
   "outputs": [],
   "source": [
    "//链表\n",
    "#[derive(Debug)]\n",
    "struct ListNode {\n",
    "\tval:i32,\n",
    "\tnext:Option<Box<ListNode>>\n",
    "}\n",
    "//next的类型是指向ListNode结构体本身的智能指针\n",
    "\n",
    "let list = ListNode {\n",
    "        val: 114,\n",
    "        next: None,\n",
    "    };\n",
    "let list2 = ListNode {\n",
    "        val: 514,\n",
    "        ..list\n",
    "    };\n",
    "//结构体更新语法，未显式指定值的字段使用list实例相同字段的值\n",
    "\n",
    "//元组结构体\n",
    "struct Color(i32,i32,i32);\n",
    "let black = Color(0,0,0);\n"
   ]
  },
  {
   "cell_type": "markdown",
   "id": "33116b30",
   "metadata": {},
   "source": [
    "**枚举类型**\n",
    "\n",
    "使用enum关键字和自定义命名来定义\n",
    "\n",
    "使用“枚举名::枚举值”访问枚举值\n",
    "\n",
    "分为无参数枚举类型和有参数枚举类型"
   ]
  },
  {
   "cell_type": "code",
   "execution_count": 6,
   "id": "7f7c54d8",
   "metadata": {
    "vscode": {
     "languageId": "rust"
    }
   },
   "outputs": [],
   "source": [
    "//无参数枚举类型\n",
    "#[derive(Debug)] //实现Debug trait\n",
    "enum ColorNoParam {\n",
    "\tRed,\n",
    "\tYellow,\n",
    "\tBlue\n",
    "}\n",
    "\n",
    "fn main(){\n",
    "\tlet color_no_param = ColorNoPAram::Red;\n",
    "}\n",
    "\n",
    "//带参数枚举类型\n",
    "#[derive(Debug)] //实现Debug trait\n",
    "enum ColorParam {\n",
    "\tRed(String),\n",
    "\tYellow(String),\n",
    "\tBlue(String)\n",
    "}\n",
    "\n",
    "fn main(){\n",
    "\tprintln!(\"{:?}\",ColorParam::Blue(String::from(\"blue\")));//Blue(\"blue\")\n",
    "}"
   ]
  },
  {
   "cell_type": "markdown",
   "id": "a08f9b68",
   "metadata": {},
   "source": [
    "## 2.4 容器类型\n",
    "\n",
    "std::collections提供4种通用容器类型\n",
    "\n",
    "Vec，VecDeque和HashMap最常用\n",
    "\n",
    "|  容器         |  描述        |    容器                         |\n",
    "|---------------|---------------|--------------------------------|\n",
    "| Vec<T>        | 连续存储的可变长数组 | 线性序列                       |\n",
    "| VecDeque<T>   | 连续存储的可变长双端队列 | 线性序列                       |\n",
    "| LinkedList<T> | 非连续存储的双向链表 | 线性序列                       |\n",
    "| HashMap<K,V>  | 基于哈希表的无序键-值对 | 键-值对                        |\n",
    "| BTreeMap<K,V> | 基于B树的有序键-值对，按Key排序 | 键-值对                        |\n",
    "| HashSet<T>    | 基于哈希表的无序集合 | 集合                           |\n",
    "| BTreeSet<T>   | 基于B树的有序集合 | 集合                           |\n",
    "| BinaryHeap<T> | 基于二叉堆的优先队列 | 优先队列                       |\n",
    "\n",
    "---\n",
    "\n",
    "**Vec  动态（可变长）数组**\n",
    "\n",
    "连续内存块，存储同类型元素，索引"
   ]
  },
  {
   "cell_type": "code",
   "execution_count": null,
   "id": "0677f439",
   "metadata": {
    "vscode": {
     "languageId": "rust"
    }
   },
   "outputs": [],
   "source": [
    "let mut v:Vec<i32> = Vec::new();"
   ]
  }
 ],
 "metadata": {
  "jupytext": {
   "cell_metadata_filter": "-all",
   "main_language": "rust",
   "notebook_metadata_filter": "-all"
  },
  "kernelspec": {
   "display_name": "Rust",
   "language": "rust",
   "name": "rust"
  },
  "language_info": {
   "codemirror_mode": "rust",
   "file_extension": ".rs",
   "mimetype": "text/rust",
   "name": "Rust",
   "pygment_lexer": "rust",
   "version": ""
  }
 },
 "nbformat": 4,
 "nbformat_minor": 5
}
