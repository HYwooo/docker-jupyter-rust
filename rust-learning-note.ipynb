{
 "cells": [
  {
   "cell_type": "markdown",
   "id": "81733df9",
   "metadata": {},
   "source": [
    "# Rust Learning Note\n",
    "\n",
    "# 1 Cargo\n",
    "\n",
    "略\n",
    "\n",
    "# 2 变量与数据类型\n",
    "\n",
    "## 2.1 变量与可变性"
   ]
  },
  {
   "cell_type": "code",
   "execution_count": null,
   "id": "da8d92e2",
   "metadata": {
    "vscode": {
     "languageId": "rust"
    }
   },
   "outputs": [],
   "source": [
    "{\n",
    "    let x: i8 = 1; //声明不可变变量\n",
    "    let mut y: i8 = 3; //声明可变变量\n",
    "}"
   ]
  },
  {
   "cell_type": "markdown",
   "id": "01c17cbe",
   "metadata": {},
   "source": [
    "> 常量：用const声明，大写字母+下划线，必须指定数据类型。编译时被赋值。\n",
    "\n",
    "> Q：可变变量，不可变变量和const的区别是什么？\n",
    "\n",
    "| **特性**     | **可变变量 (`mut`)** | **不可变变量（默认）** | **常量 (`const`)** |\n",
    "| ------------ | -------------------- | ---------------------- | ------------------ |\n",
    "| **可变性**   | 可修改               | 不可修改               | 不可修改           |\n",
    "| **作用域**   | 局部作用域           | 局部作用域             | 全局作用域         |\n",
    "| **初始化**   | 可延迟初始化         | 可延迟初始化           | 必须立即初始化     |\n",
    "| **内存分配** | 栈或堆               | 栈或堆                 | 编译时内联         |\n",
    "| **类型推断** | 支持                 | 支持                   | 不支持，需显式指定 |\n",
    "| **使用场景** | 需要改变值的场景     | 值不变的安全场景       | 全局常量或配置参数 |\n",
    "\n",
    "---\n",
    "\n",
    "> 变量遮蔽：通过 **`let`** 声明新的变量，只不过名称恰好与之前的相同，但是是完全不同的变量，位于不同内存空间\n",
    "\n",
    "## 2.2 基本数据类型\n",
    "\n",
    "- 数字可用 _ 分隔\n",
    "- f32 → 小数点后6位有效数字；f64 → 15位"
   ]
  },
  {
   "cell_type": "code",
   "execution_count": null,
   "id": "7e37fb55",
   "metadata": {
    "vscode": {
     "languageId": "rust"
    }
   },
   "outputs": [],
   "source": [
    "{\n",
    "    let float1: f32 = 1.1; //类型声明\n",
    "    let float2 = 2.2f32; //类型后缀声明\n",
    "    let float3 = 3.3; //默认f64\n",
    "}\n"
   ]
  },
  {
   "cell_type": "markdown",
   "id": "4087b70d",
   "metadata": {},
   "source": [
    "**Bool**"
   ]
  },
  {
   "cell_type": "code",
   "execution_count": null,
   "id": "cd664983",
   "metadata": {
    "vscode": {
     "languageId": "rust"
    }
   },
   "outputs": [],
   "source": [
    "{\n",
    "    let t: bool = true; //显式声明\n",
    "    let f = false; //隐式声明\n",
    "}\n"
   ]
  },
  {
   "cell_type": "markdown",
   "id": "3fc0ef35",
   "metadata": {},
   "source": [
    "**字符类型**\n",
    "\n",
    "略\n",
    "\n",
    "**范围类型**"
   ]
  },
  {
   "cell_type": "code",
   "execution_count": 5,
   "id": "dc28c7d0",
   "metadata": {
    "vscode": {
     "languageId": "rust"
    }
   },
   "outputs": [],
   "source": [
    "//(1..5) //左闭右开 1~4\n",
    "//(1..=5)//闭区间   1~5\n",
    "//rev()方法 反转顺序\n",
    "//(1..5).rev();  // 4 3 2 1\n",
    "//sum()方法 求和\n",
    "//(1..=5).sum(); // 15\n"
   ]
  },
  {
   "cell_type": "markdown",
   "id": "93275025",
   "metadata": {},
   "source": [
    "## 2.3 复合数据类型\n",
    "\n",
    "### **元组 Tuple**\n",
    "\n",
    "用小括号放在一起，长度固定，元素间逗号分隔。\n",
    "\n",
    "若显式指定数据类型，则元素个数必须与数据类型个数相同。\n",
    "\n",
    "用 “元组名.索引”访问"
   ]
  },
  {
   "cell_type": "code",
   "execution_count": null,
   "id": "61665fc5",
   "metadata": {
    "vscode": {
     "languageId": "rust"
    }
   },
   "outputs": [],
   "source": [
    "{\n",
    "    let tup: (i32, f64, u8) = (500, 6.4, 1);\n",
    "    let tup2 = (7.7, (false, 10));\n",
    "    println!(\"{}\", tup2.1.1);\n",
    "\n",
    "    let (x, y, z) = tup; //模式匹配\n",
    "    println!(\"The value of y is: {}\", y);\n",
    "}\n"
   ]
  },
  {
   "cell_type": "markdown",
   "id": "2ac57d2e",
   "metadata": {},
   "source": [
    "### **数组 Array**\n",
    "\n",
    "使用“数组名[索引]”访问；\n",
    "\n",
    "当你明确元素数量不需要改变时，数组会比 **Vector（可变数组）** 更有用"
   ]
  },
  {
   "cell_type": "code",
   "execution_count": null,
   "id": "8ac741c7",
   "metadata": {
    "vscode": {
     "languageId": "rust"
    }
   },
   "outputs": [],
   "source": [
    "{\n",
    "    let arr: [i32; 5] = [1, 2, 3, 4, 5];\n",
    "    let arr = [1, 2, 3, 4, 5]; //类型推断\n",
    "    let arr = [1; 5]; //等价于let arr = [1,1,1,1,1];\n",
    "}\n"
   ]
  },
  {
   "cell_type": "markdown",
   "id": "a6c0ba75",
   "metadata": {},
   "source": [
    "> 数组使用无效值索引：导致**运行时**（*runtime*）错误\n",
    "\n",
    "\n",
    "\n",
    "### **struct 结构体**\n",
    "\n",
    "用“name:type”定义字段；字段默认不可变，要求明确指定数据类型，以逗号分隔，最后一个逗号可省略。\n",
    "\n",
    "字段初始化时，使用“name:value”格式"
   ]
  },
  {
   "cell_type": "code",
   "execution_count": null,
   "id": "6ea58454",
   "metadata": {
    "vscode": {
     "languageId": "rust"
    }
   },
   "outputs": [],
   "source": [
    "{\n",
    "    //链表\n",
    "    #[derive(Debug)]\n",
    "    struct ListNode {\n",
    "        val: i32,\n",
    "        next: Option<Box<ListNode>>,\n",
    "    }\n",
    "    //next的类型是指向ListNode结构体本身的智能指针\n",
    "\n",
    "    let list = ListNode {\n",
    "        val: 114,\n",
    "        next: None,\n",
    "    };\n",
    "    let list2 = ListNode {\n",
    "        val: 514,\n",
    "        ..list\n",
    "    };\n",
    "    //结构体更新语法，未显式指定值的字段使用list实例相同字段的值\n",
    "\n",
    "    //元组结构体\n",
    "    struct Color(i32, i32, i32);\n",
    "    let black = Color(0, 0, 0);\n",
    "}\n"
   ]
  },
  {
   "cell_type": "markdown",
   "id": "33116b30",
   "metadata": {},
   "source": [
    "### **enum 枚举类型**\n",
    "\n",
    "使用enum关键字和自定义命名来定义\n",
    "\n",
    "使用“枚举名::枚举值”访问枚举值\n",
    "\n",
    "分为无参数枚举类型和有参数枚举类型"
   ]
  },
  {
   "cell_type": "code",
   "execution_count": null,
   "id": "7f7c54d8",
   "metadata": {
    "vscode": {
     "languageId": "rust"
    }
   },
   "outputs": [],
   "source": [
    "{\n",
    "    //无参数枚举类型\n",
    "    #[derive(Debug)] //实现Debug trait\n",
    "    enum ColorNoParam {\n",
    "        Red,\n",
    "        Yellow,\n",
    "        Blue,\n",
    "    }\n",
    "\n",
    "    let color_no_param = ColorNoParam::Red;\n",
    "    println!(\"{:?}\", color_no_param); //Red\n",
    "\n",
    "    //带参数枚举类型\n",
    "    #[derive(Debug)] //实现Debug trait\n",
    "    enum ColorParam {\n",
    "        Red(String),\n",
    "        Yellow(String),\n",
    "        Blue(String),\n",
    "    }\n",
    "\n",
    "    println!(\"{:?}\", ColorParam::Blue(String::from(\"blue\"))); //Blue(\"blue\")\n",
    "}\n"
   ]
  },
  {
   "cell_type": "markdown",
   "id": "a08f9b68",
   "metadata": {},
   "source": [
    "## 2.4 容器类型\n",
    "\n",
    "std::collections提供4种通用容器类型\n",
    "\n",
    "Vec，VecDeque和HashMap最常用\n",
    "\n",
    "|  容器         |  描述        |    容器                         |\n",
    "|---------------|---------------|--------------------------------|\n",
    "| Vec<T>        | 连续存储的可变长数组 | 线性序列                       |\n",
    "| VecDeque<T>   | 连续存储的可变长双端队列 | 线性序列                       |\n",
    "| LinkedList<T> | 非连续存储的双向链表 | 线性序列                       |\n",
    "| HashMap<K,V>  | 基于哈希表的无序键-值对 | 键-值对                        |\n",
    "| BTreeMap<K,V> | 基于B树的有序键-值对，按Key排序 | 键-值对                        |\n",
    "| HashSet<T>    | 基于哈希表的无序集合 | 集合                           |\n",
    "| BTreeSet<T>   | 基于B树的有序集合 | 集合                           |\n",
    "| BinaryHeap<T> | 基于二叉堆的优先队列 | 优先队列                       |\n",
    "\n",
    "---\n",
    "\n",
    "### Vec  动态（可变长）数组\n",
    "\n",
    "连续内存块，存储同类型元素"
   ]
  },
  {
   "cell_type": "code",
   "execution_count": null,
   "id": "0677f439",
   "metadata": {
    "vscode": {
     "languageId": "rust"
    }
   },
   "outputs": [],
   "source": [
    "{\n",
    "    let mut v: Vec<i32> = Vec::new(); //创建空Vec\n",
    "    let mut v: Vec<i32> = Vec::with_capacity(10); //创建容量为10的Vec\n",
    "}\n"
   ]
  },
  {
   "cell_type": "markdown",
   "id": "c59685e7",
   "metadata": {},
   "source": [
    "\n",
    "\n",
    "容量是为了存储元素所分配的内存空间量\n",
    "长度是数组中实际的元素个数\n",
    "\n",
    "动态数组长度超过容量时，需要重新分配更大容量"
   ]
  },
  {
   "cell_type": "code",
   "execution_count": null,
   "id": "ffa7edd9",
   "metadata": {
    "vscode": {
     "languageId": "rust"
    }
   },
   "outputs": [],
   "source": [
    "{\n",
    "    //使用vec!宏，在创建Vec的同时进行初始化，并根据初始值自动推断类型\n",
    "    let mut v: Vec<i32> = vec![]; //空数组，没有元素，无法推断，需要声明类型\n",
    "\n",
    "    let mut v = vec![1, 2, 3]; //自动推断为i32类型\n",
    "\n",
    "    let mut v = vec![0; 10]; //创建长度为10，元素为0的Vec\n",
    "}\n"
   ]
  },
  {
   "cell_type": "markdown",
   "id": "acd0cd95",
   "metadata": {},
   "source": [
    "**动态数组的修改**\n",
    "\n",
    "\n",
    "使用push方法在数组尾部添加元素\n",
    "\n",
    "修改指定索引元素值\n",
    "\n"
   ]
  },
  {
   "cell_type": "code",
   "execution_count": null,
   "id": "2039f881",
   "metadata": {
    "vscode": {
     "languageId": "rust"
    }
   },
   "outputs": [],
   "source": [
    "{\n",
    "    let mut v: Vec<i32> = Vec::new(); //声明空Vec\n",
    "\n",
    "    v.push(1); //添加元素\n",
    "    v.push(2);\n",
    "    v.push(3);\n",
    "    println!(\"{:?}\", v); //输出[1,2,3]\n",
    "\n",
    "    v[1] = 5; //修改元素\n",
    "    println!(\"{:?}\", v); //输出[1,5,3]\n",
    "}\n"
   ]
  },
  {
   "cell_type": "markdown",
   "id": "0b098743",
   "metadata": {},
   "source": [
    "\n",
    "\n",
    "使用pop方法删除元素\n",
    "\n"
   ]
  },
  {
   "cell_type": "code",
   "execution_count": null,
   "id": "2210d48d",
   "metadata": {
    "vscode": {
     "languageId": "rust"
    }
   },
   "outputs": [],
   "source": [
    "{\n",
    "    let mut v: Vec<i32> = Vec::with_capacity(10); //声明容量为10的Vec\n",
    "    v.push(1); //添加元素\n",
    "    v.push(2);\n",
    "    v.push(3);\n",
    "    println!(\"e:{:?}\", v.pop()); //弹出最后一个元素，输出Some(3)\n",
    "}\n"
   ]
  },
  {
   "cell_type": "markdown",
   "id": "e919f86c",
   "metadata": {
    "vscode": {
     "languageId": "rust"
    }
   },
   "source": [
    "使用remove方法删除并返回元素，同时将其后面所有元素左移。索引越界将导致错误。"
   ]
  },
  {
   "cell_type": "code",
   "execution_count": null,
   "id": "a7a2a5fe",
   "metadata": {
    "vscode": {
     "languageId": "rust"
    }
   },
   "outputs": [],
   "source": [
    "{\n",
    "    let mut v: Vec<i32> = Vec::with_capacity(10); //声明容量为10的Vec\n",
    "    v.push(1); //添加元素\n",
    "    v.push(2);\n",
    "    v.push(3);\n",
    "    println!(\"e:{:?}\", v.remove(1)); //移除索引为1的元素，输出2\n",
    "}\n"
   ]
  },
  {
   "cell_type": "markdown",
   "id": "ad7552cd",
   "metadata": {},
   "source": [
    "动态数组的访问"
   ]
  },
  {
   "cell_type": "code",
   "execution_count": null,
   "id": "747ff516",
   "metadata": {
    "vscode": {
     "languageId": "rust"
    }
   },
   "outputs": [],
   "source": [
    "{\n",
    "    let v = vec![1, 2, 3];\n",
    "\n",
    "    println!(\"e:{}\", v[2]); //使用 实例名[索引] 访问元素\n",
    "\n",
    "    //println!(\"e:{}\", v[10]);//越界访问，panic\n",
    "}\n"
   ]
  },
  {
   "cell_type": "code",
   "execution_count": null,
   "id": "238cade2",
   "metadata": {
    "vscode": {
     "languageId": "rust"
    }
   },
   "outputs": [],
   "source": [
    "{\n",
    "    let v = vec![1, 2, 3];\n",
    "    println!(\"e:{:?}\", v.get(2)); //使用get方法访问元素 返回Some(3)\n",
    "\n",
    "    println!(\"e:{:?}\", v.get(10)); //越界访问，返回None\n",
    "}\n"
   ]
  },
  {
   "cell_type": "markdown",
   "id": "703f6d98",
   "metadata": {},
   "source": [
    "for遍历所有元素"
   ]
  },
  {
   "cell_type": "code",
   "execution_count": null,
   "id": "cf86c4b2",
   "metadata": {
    "vscode": {
     "languageId": "rust"
    }
   },
   "outputs": [],
   "source": [
    "{\n",
    "    let v = vec![10, 20, 30];\n",
    "    for i in v {\n",
    "        println!(\"{}\", i);\n",
    "    }\n",
    "\n",
    "    let mut v = vec![100, 200, 300];\n",
    "    for i in &mut v {\n",
    "        *i += 50;\n",
    "        println!(\"{}\", i);\n",
    "    }\n",
    "}"
   ]
  },
  {
   "cell_type": "markdown",
   "id": "3b098cbe",
   "metadata": {},
   "source": [
    "### VecDeque 双端队列\n",
    "\n",
    "同时具有栈（先进后出）和队列（先进先出）特征，适用于只能在队列两端添加或删除元素操作的应用场景。\n",
    "\n",
    "定义在std::collections中"
   ]
  },
  {
   "cell_type": "code",
   "execution_count": null,
   "id": "9c2ce8fc",
   "metadata": {
    "vscode": {
     "languageId": "rust"
    }
   },
   "outputs": [],
   "source": [
    "{\n",
    "    use std::collections::VecDeque;\n",
    "    let mut v: VecDeque<i32> = VecDeque::new(); //创建空VecDeque\n",
    "    let mut v: VecDeque<i32> = VecDeque::with_capacity(10); //声明容量为10的VecDeque\n",
    "}\n"
   ]
  },
  {
   "cell_type": "markdown",
   "id": "d5404af2",
   "metadata": {},
   "source": [
    "修改VecDeque的常见操作由添加元素，修改指定索引和删除元素"
   ]
  },
  {
   "cell_type": "code",
   "execution_count": null,
   "id": "d93d54a6",
   "metadata": {
    "vscode": {
     "languageId": "rust"
    }
   },
   "outputs": [],
   "source": [
    "{\n",
    "    use std::collections::VecDeque;\n",
    "    let mut v: VecDeque<u32> = VecDeque::new(); //创建空VecDeque\n",
    "    v.push_back(1); //尾部添加元素\n",
    "    v.push_back(2);\n",
    "    v.push_back(3);\n",
    "\n",
    "    v.push_front(1); //头部添加元素\n",
    "    v.push_front(2);\n",
    "    v.push_front(3);\n",
    "    println!(\"{:?}\", v); //输出Deque([3, 2, 1, 1, 2, 3])\n",
    "\n",
    "    v[1] = 5; //修改元素\n",
    "    println!(\"{:?}\", v); //输出Deque([3, 5, 1, 1, 2, 3])\n",
    "\n",
    "    println!(\"e:{:?}\", v.pop_back()); //弹出尾部元素，输出Some(3)\n",
    "    println!(\"e:{:?}\", v.pop_front()); //弹出头部元素，输出Some(3)\n",
    "    //[5, 1, 1, 2]\n",
    "    println!(\"e:{:?}\", v.remove(1).unwrap()); //移除索引为1的元素，返回Some(3)\n",
    "    println!(\"e:{:?}\", v.remove(10)); //移除索引为10的元素，越界，返回None\n",
    "\n",
    "    println!(\"e:{:?}\", v[2]); //使用get方法访问元素 返回2\n",
    "    //println!(\"e:{:?}\", v[10]); //越界 panic\n",
    "    println!(\"e:{:?}\", v.get(2)); //使用get方法访问元素 返回Some(2)\n",
    "    println!(\"e:{:?}\", v.get(10)); //越界访问，返回None\n",
    "}\n"
   ]
  },
  {
   "cell_type": "markdown",
   "id": "1bc5a59e",
   "metadata": {},
   "source": [
    "### 哈希表 Hashmap\n",
    "\n",
    "存储K-V值，所有的Key同类型，所有的Value同类型。不允许有重复的键。"
   ]
  },
  {
   "cell_type": "code",
   "execution_count": null,
   "id": "60985b57",
   "metadata": {
    "vscode": {
     "languageId": "rust"
    }
   },
   "outputs": [],
   "source": [
    "{\n",
    "    use std::collections::HashMap;\n",
    "    //创建Hashmap\n",
    "    let mut map: HashMap<&str, i32> = HashMap::new(); //创建空HashMap\n",
    "    let mut map: HashMap<&str, i32> = HashMap::with_capacity(10); //声明容量为10的HashMap\n",
    "\n",
    "    //HashMap的修改\n",
    "    //使用insert方法插入（或更新）键值对\n",
    "    let zhangsan1 = map.insert(\"zhangsan\", 97); //如果值不存在，执行插入并返回None;若存在，更新值并返回Some(旧值)\n",
    "    map.insert(\"lisi\", 86);\n",
    "\n",
    "    println!(\"{:?}\", zhangsan1);\n",
    "    println!(\"{:?}\", map);\n",
    "\n",
    "    let zhangsan2 = map.insert(\"zhangsan\", 79);\n",
    "    println!(\"{:?}\", zhangsan2);\n",
    "    println!(\"{:?}\", map);\n",
    "}\n"
   ]
  },
  {
   "cell_type": "markdown",
   "id": "84bae1cb",
   "metadata": {},
   "source": [
    "使用entry和or_insert方法检查键是否有对应值，没有对应值则插入键值对，若有则不做操作。\n",
    "\n",
    "entry(\"key\") -> Entry\n"
   ]
  },
  {
   "cell_type": "code",
   "execution_count": null,
   "id": "7e86881b",
   "metadata": {
    "vscode": {
     "languageId": "rust"
    }
   },
   "outputs": [],
   "source": [
    "{\n",
    "    //entry or_insert方法\n",
    "    use std::collections::HashMap;\n",
    "    //创建Hashmap\n",
    "    let mut map: HashMap<&str, i32> = HashMap::new(); //创建空HashMap\n",
    "    map.entry(\"zhangsan\").or_insert(97); //如果键不存在，插入键值对\n",
    "    map.entry(\"lisi\").or_insert(86);\n",
    "    println!(\"{:?}\", map);\n",
    "\n",
    "    map.entry(\"zhangsan\").or_insert(79); //键存在，不做操作,返回已有键值对的值\n",
    "    println!(\"{:?}\", map);\n",
    "}\n"
   ]
  },
  {
   "cell_type": "code",
   "execution_count": null,
   "id": "c00add90",
   "metadata": {
    "vscode": {
     "languageId": "rust"
    }
   },
   "outputs": [],
   "source": [
    "{\n",
    "//迭代修改map元素\n",
    "use std::collections::HashMap;\n",
    "let mut map: HashMap<&str, i32> = HashMap::new(); //创建空HashMap\n",
    "\n",
    "map.insert(\"zhangsan\", 97);\n",
    "map.insert(\"lisi\", 86);\n",
    "map.insert(\"wangwu\", 55);\n",
    "println!(\"{:?}\", map);\n",
    "\n",
    "for (_, val) in map.iter_mut() {\n",
    "    *val += 2;\n",
    "}\n",
    "println!(\"{:?}\", map);\n",
    "}"
   ]
  },
  {
   "cell_type": "code",
   "execution_count": null,
   "id": "10b3747d",
   "metadata": {
    "vscode": {
     "languageId": "rust"
    }
   },
   "outputs": [],
   "source": [
    "{\n",
    "    //使用remove方法删除并返回指定的键值对\n",
    "    use std::collections::HashMap;\n",
    "    let mut map: HashMap<&str, i32> = HashMap::new(); //创建空HashMap\n",
    "    map.insert(\"zhangsan\", 97);\n",
    "    map.insert(\"lisi\", 86);\n",
    "    map.insert(\"wangwu\", 55);\n",
    "    println!(\"{:?}\", map);\n",
    "    let result = map.remove(\"wangwu\");\n",
    "\n",
    "    println!(\"{:?}\", map);\n",
    "    println!(\"result:{:?}\", result); //删除键值对，返回值\n",
    "}\n"
   ]
  },
  {
   "cell_type": "code",
   "execution_count": null,
   "id": "73e254a3",
   "metadata": {
    "vscode": {
     "languageId": "rust"
    }
   },
   "outputs": [],
   "source": [
    "{\n",
    "    //访问键值对\n",
    "    use std::collections::HashMap;\n",
    "    let mut map: HashMap<&str, i32> = HashMap::new(); //创建空HashMap\n",
    "    map.insert(\"zhangsan\", 97);\n",
    "    println!(\"zhangsan:{}\", map[\"zhangsan\"]); //使用[]访问键值对\n",
    "    //println!(\"wangwu:{}\",map[\"wangwu\"]); //访问不存在的键，panic\n",
    "\n",
    "    println!(\"[get]zhangsan:{:?}\", map.get(\"zhangsan\")); //使用get方法访问键值对\n",
    "    println!(\"[get]wangwu:{:?}\", map.get(\"wangwu\")); //使用get方法访问不存在的键，返回None\n",
    "}\n"
   ]
  },
  {
   "cell_type": "markdown",
   "id": "36e557b2",
   "metadata": {},
   "source": [
    "## 2.5 字符串\n",
    "\n",
    "字符串有两种，一种是固定长度的字符串字面量str，另一种是可变长度的字符串对象String\n",
    "\n",
    "内置的字符串类型是str，通常以引用的形式&str出现。&str是字符的集合，代表不可变的utf-8字符串引用，创建后无法追加或更改内容。"
   ]
  },
  {
   "cell_type": "code",
   "execution_count": null,
   "id": "371aba30",
   "metadata": {
    "vscode": {
     "languageId": "rust"
    }
   },
   "outputs": [],
   "source": [
    "{\n",
    "    let s1 = \"Hello,Rust!\"; //字符串字面量\n",
    "    {\n",
    "        let str1 = String::from(\"Hello,Rust!\"); //String类型，字符串对象\n",
    "        let s2 = str1.as_str(); //String类型转&str类型\n",
    "        println!(\"{}\", s2);\n",
    "    } //s2离开作用域，自动释放内存\n",
    "}\n"
   ]
  },
  {
   "cell_type": "markdown",
   "id": "61fe71ef",
   "metadata": {},
   "source": [
    "### 字符串的创建"
   ]
  },
  {
   "cell_type": "code",
   "execution_count": null,
   "id": "1cd57b85",
   "metadata": {
    "vscode": {
     "languageId": "rust"
    }
   },
   "outputs": [],
   "source": [
    "{\n",
    "    //创建字符串\n",
    "    let mut s = String::new(); //创建空字符串对象\n",
    "    let s = String::from(\"Hello,Rust!\"); //根据指定的字符串字面量创建字符串对象\n",
    "    let str1 = \"Hello,Rust!\"; //字符串字面量\n",
    "    let s = str1.to_string(); //字符串字面量转String类型\n",
    "}\n"
   ]
  },
  {
   "cell_type": "markdown",
   "id": "e8fe3f1b",
   "metadata": {},
   "source": [
    "### 字符串的修改"
   ]
  },
  {
   "cell_type": "code",
   "execution_count": null,
   "id": "f117879b",
   "metadata": {
    "vscode": {
     "languageId": "rust"
    }
   },
   "outputs": [],
   "source": [
    "{\n",
    "    let mut s = String::from(\"Hello,\"); //创建字符串对象\n",
    "    s.push('R'); //追加字符\n",
    "    s.push_str(\"ust!\"); //追加字符串\n",
    "    println!(\"{}\", s); //输出Hello,Rust!\n",
    "}\n",
    "\n",
    "{\n",
    "    let mut s = String::from(\"Hello World!\"); //创建字符串对象\n",
    "    s.insert(5, ','); //在索引5处插入字符\n",
    "    s.insert_str(7, \"Rust \"); //在索引7处插入字符串\n",
    "    println!(\"{}\", s); //输出Hello,Rust World!\n",
    "}\n"
   ]
  },
  {
   "cell_type": "markdown",
   "metadata": {},
   "source": [
    "使用 + 或 += 连接字符串"
   ]
  },
  {
   "cell_type": "code",
   "execution_count": null,
   "id": "2553cb87",
   "metadata": {
    "vscode": {
     "languageId": "rust"
    }
   },
   "outputs": [],
   "source": [
    "{\n",
    "    let s1 = String::from(\"Hello\");\n",
    "    let s2 = String::from(\",\");\n",
    "    let s3 = String::from(\"Rust \");\n",
    "    let s4 = \"World\";\n",
    "\n",
    "    //String类型不能出现在+右边，因此将其转换为字面量。&s2为&String类型(但连接时会自动解引用为&str)，s3.as_str()为&str类型\n",
    "    let mut s = s1 + &s2 + s3.as_str() + s4; \n",
    "    s += \"!\";\n",
    "    println!(\"{}\", s); //输出Hello,Rust World!\n",
    "}\n"
   ]
  },
  {
   "cell_type": "markdown",
   "id": "7e0ad1af",
   "metadata": {},
   "source": [
    "使用format!连接字符串\n",
    "\n",
    "可用于String和&str类型"
   ]
  },
  {
   "cell_type": "code",
   "execution_count": null,
   "id": "1b0b8c52",
   "metadata": {
    "vscode": {
     "languageId": "rust"
    }
   },
   "outputs": [],
   "source": [
    "{\n",
    "    let s1 = String::from(\"Hello\");\n",
    "    let s2 = String::from(\"Rust\");\n",
    "    let s3 = \"World\";\n",
    "    let s = format!(\"{},{} {}\", s1, s2, s3);\n",
    "    println!(\"{}\", s); //输出Hello,Rust World\n",
    "}\n"
   ]
  },
  {
   "cell_type": "markdown",
   "id": "6e49c5d7",
   "metadata": {},
   "source": [
    "使用replace和replacen方法替换字符串中的字串。replace替换所有匹配到的字串，replacen还要指定替换的次数。"
   ]
  },
  {
   "cell_type": "code",
   "execution_count": null,
   "id": "ecef68f0",
   "metadata": {
    "vscode": {
     "languageId": "rust"
    }
   },
   "outputs": [],
   "source": [
    "{\n",
    "    let s = String::from(\"aaabbbbccaadd\");\n",
    "    let s1 = s.replace(\"aa\", \"77\");\n",
    "    let s2 = s.replacen(\"aa\", \"77\", 1);\n",
    "    println!(\"{}\", s1); //输出77bbbbcc77dd\n",
    "    println!(\"{}\", s2); //输出77bbbbccaadd\n",
    "}\n"
   ]
  },
  {
   "cell_type": "markdown",
   "id": "a2a2f49a",
   "metadata": {},
   "source": [
    "使用pop,remove,truncate和clear方法删除字符串中的字符\n",
    "\n",
    "- pop：删除并返回字符串的最后一个字符，返回值类型是Option<char>。如果字符串为空，则返回None。\n",
    "\n",
    "- remove：删除并返回字符串中指定位置的字符，其参数是该字符的起始索引位置。remove方法是按字节处理字符串的，如果给定的索引位置不是合法的字符边界，将会导致程序错误。\n",
    "    \n",
    "- truncate：删除字符串中从指定位置开始到结尾的全部字符，其参数是起始索引位置。truncate方法也是按字节处理字符串的，如果给定的索引位置不是合法的字符边界，将会导致程序错误。\n",
    "\n",
    "- clear：等价于将truncate方法的参数指定为0，删除字符串中所有字符。"
   ]
  },
  {
   "cell_type": "code",
   "execution_count": null,
   "id": "be88c956",
   "metadata": {
    "vscode": {
     "languageId": "rust"
    }
   },
   "outputs": [],
   "source": [
    "{\n",
    "    let mut s = String::from(\"Löwe 老虎 Léopard\");\n",
    "\n",
    "    println!(\"{:?}\", s.pop());\n",
    "    println!(\"{}\", s);\n",
    "\n",
    "    println!(\"{:?}\", s.remove(9));//按字节处理字符串，移除起始索引为9的字符\n",
    "    println!(\"{}\", s);\n",
    "\n",
    "    s.truncate(9);\n",
    "    println!(\"{}\", s);\n",
    "\n",
    "    s.clear();\n",
    "    println!(\"{}\", s);\n",
    "}\n"
   ]
  },
  {
   "cell_type": "markdown",
   "id": "5eae5f7b",
   "metadata": {},
   "source": [
    "### 字符串的访问\n",
    "字符串是UTF-8编码的字节序列，不能直接使用索引来访问字符\n",
    "\n",
    "字符串操作可以分为按字节处理和按字符处理两种方式，按字节处理使用bytes方法返回按字节迭代的迭代器，按字符处理使用chars方法返回按字符迭代的迭代器。"
   ]
  },
  {
   "cell_type": "code",
   "execution_count": null,
   "id": "2dad60d4",
   "metadata": {
    "vscode": {
     "languageId": "rust"
    }
   },
   "outputs": [],
   "source": [
    "{\n",
    "    let s = String::from(\"Löwe 老虎\");\n",
    "    println!(\"Löwe 老虎: {}\", s.len()); //返回总字节数\n",
    "\n",
    "    let s = String::from(\"L\");\n",
    "    println!(\"L: {}\", s.len());\n",
    "\n",
    "    let s = String::from(\"ö\");\n",
    "    println!(\"ö: {}\", s.len());\n",
    "\n",
    "    let s = String::from(\"老\");\n",
    "    println!(\"老: {}\", s.len());\n",
    "}\n"
   ]
  },
  {
   "cell_type": "code",
   "execution_count": null,
   "id": "1ac6e6fc",
   "metadata": {
    "vscode": {
     "languageId": "rust"
    }
   },
   "outputs": [],
   "source": [
    "{\n",
    "    let s = String::from(\"Löwe 老虎\");\n",
    "    let bytes = s.bytes();//按字节进行迭代\n",
    "    for b in bytes {\n",
    "        print!(\"{} | \", b);\n",
    "    }\n",
    "    println!();\n",
    "\n",
    "    let chars = s.chars();//对Chars迭代器进行迭代\n",
    "    for c in chars {\n",
    "        print!(\"{} | \", c);\n",
    "    }\n",
    "    println!();\n",
    "}\n"
   ]
  },
  {
   "cell_type": "markdown",
   "id": "05a4b37b",
   "metadata": {},
   "source": [
    "## 2.6 字面量和运算符\n",
    "\n",
    "### 字面量\n",
    "\n",
    "字面量是指由文字、数字或符号构成的值，它只能作为等号右边的值出现。比如整数1、浮点数1.2、字符'a'、字符串\"abc\"、布尔值true和单元值()都是字面量。 \n",
    "\n",
    "\n",
    " 通过在字面量后面加类型后缀可以进行类型说明，比如1u8是使用u8后缀来表明字面量是一个8位无符号整数，1.2f32是使用f32后缀来表明字面量是一个32位的浮点数。 \n",
    "\n",
    " \n",
    " 这里简要介绍一下单元类型。单元类型的值叫作单元值，以“()”表示。一个函数无返回值，实际上是以单元值作为函数的返回值了。"
   ]
  },
  {
   "cell_type": "markdown",
   "id": "89aa6903",
   "metadata": {},
   "source": [
    "### 运算符\n",
    "\n",
    "Rust语言支持算术运算符、关系运算符、逻辑运算符、位运算符4种运算符\n",
    "\n",
    "Rust不支持自增运算符“++”和自减运算符“--”。\n",
    "\n",
    "## 本章小结\n",
    "\n",
    "本章介绍了如何声明变量以及使用变量，针对Rust中变量默认是不可变的，要想修改变量的值必须在声明变量时使用mut关键字，对这一特殊处理做了重点介绍和代码演示；还介绍了如何使用整数、浮点数、布尔值、字符等基本数据类型，以及元组、数组、结构体、枚举等复合数据类型。另外，本章还对Rust中的字面量以及常用的算术运算符、关系运算符、逻辑运算符和位运算符，进行了介绍。\n",
    "\n",
    "  关于容器类型，本章重点介绍了Vec、VecDeque和HashMap这3个类型，使读者了解了Vec和VecDeque的区别，以及如何增删改查其中的元素。特别要注意，避免操作元素时索引越界而导致程序错误。\n",
    "\n",
    "  字符串是程序开发中最常用的数据结构。本章重点介绍了字符串类型&str和String的创建，以及如何按字节处理和按字符处理两种方式操作String类型字符串。"
   ]
  },
  {
   "cell_type": "markdown",
   "id": "b23fce38",
   "metadata": {},
   "source": [
    "# 3 流程控制\n",
    "## 3.1 条件判断\n",
    "略\n",
    "## 3.2 循环\n",
    "Rust中有3种循环。\n",
    "\n",
    "  1）loop：重复执行、永远不会结束的循环。\n",
    "\n",
    "  2）while：在条件表达式的值为true时永远执行的循环。\n",
    "\n",
    "  3）for：重复执行指定次数的循环。\n",
    "### loop"
   ]
  },
  {
   "cell_type": "code",
   "execution_count": null,
   "id": "371c0282",
   "metadata": {
    "vscode": {
     "languageId": "rust"
    }
   },
   "outputs": [],
   "source": [
    "{\n",
    "    let mut count = 0;\n",
    "    //counter用来存放loop循环的返回值\n",
    "    let counter = loop {\n",
    "        count += 1;\n",
    "        let counter = count * 2;\n",
    "        println!(\"count: {}, counter: {}\", count, counter);\n",
    "\n",
    "        if count == 10 {\n",
    "            break counter;\n",
    "            \n",
    "        }\n",
    "    };\n",
    "}\n"
   ]
  },
  {
   "cell_type": "markdown",
   "id": "badd31e5",
   "metadata": {},
   "source": [
    "### 3.2.2 while循环\n",
    "\n",
    "比loop简洁"
   ]
  },
  {
   "cell_type": "code",
   "execution_count": null,
   "id": "2febd1d0",
   "metadata": {
    "vscode": {
     "languageId": "rust"
    }
   },
   "outputs": [],
   "source": [
    "{\n",
    "    let mut count = 0;\n",
    "    let mut counter = 0;\n",
    "    while count != 10 {\n",
    "        count += 1;\n",
    "        counter = count * 2;\n",
    "        println!(\"count: {}, counter: {}\", count, counter);\n",
    "    }\n",
    "}\n"
   ]
  },
  {
   "cell_type": "markdown",
   "id": "ebf46ba6",
   "metadata": {},
   "source": [
    "### 3.2.3 for循环\n",
    "\n",
    "  for循环使用“for…in…”的语法格式，是一种重复执行指定次数的循环。因其安全性和简洁性常用于对范围类型或集合类型的所有元素执行指定的操作。"
   ]
  },
  {
   "cell_type": "code",
   "execution_count": null,
   "id": "702e7ade",
   "metadata": {
    "vscode": {
     "languageId": "rust"
    }
   },
   "outputs": [],
   "source": [
    "{\n",
    "    let mut counter = 0;\n",
    "    for count in 1..=10 {\n",
    "        counter = count * 2;\n",
    "        println!(\"count: {}, counter: {}\", count, counter);\n",
    "    }\n",
    "}\n"
   ]
  },
  {
   "cell_type": "markdown",
   "id": "a3de3c97",
   "metadata": {},
   "source": [
    "### continue and break\n",
    "\n",
    "用于循环控制\n",
    "\n",
    "continue语句仅是跳出当前轮循环，不再执行循环体内continue语句之后的代码，但它会再次进行条件判断，决定是否重复执行循环。"
   ]
  },
  {
   "cell_type": "code",
   "execution_count": null,
   "id": "29906cb0",
   "metadata": {
    "vscode": {
     "languageId": "rust"
    }
   },
   "outputs": [],
   "source": [
    "{\n",
    "    for i in 0..10 {\n",
    "        if i == 0 || i == 4 {\n",
    "            continue;\n",
    "        }\n",
    "        if i == 6 {\n",
    "            break;\n",
    "        }\n",
    "\n",
    "        println!(\"i: {}\", i);\n",
    "    }\n",
    "}\n"
   ]
  },
  {
   "cell_type": "markdown",
   "id": "10baa7a0",
   "metadata": {},
   "source": [
    "## 3.3 match模式匹配\n",
    "\n",
    "match模式匹配也可用于流程控制，检查当前值是否匹配一系列模式中的某一个。模式可由字面值、变量、通配符和其他内容构成。每一个模式都是一个分支，程序根据匹配的模式执行相应的代码。\n",
    "\n",
    "Rust要求match模式匹配是穷尽式的，即**必须穷举所有的可能性**，否则会导致程序错误。有一个处理方法是将通配符\"\\_\"放置在其他分支之后，通配符\"_\"会匹配上面没有指定的所有可能的模式。"
   ]
  },
  {
   "cell_type": "code",
   "execution_count": null,
   "id": "3fc31a3c",
   "metadata": {
    "vscode": {
     "languageId": "rust"
    }
   },
   "outputs": [],
   "source": [
    "{\n",
    "    let age = 114514;\n",
    "\n",
    "    match age {\n",
    "        0 => println!(\"You are a baby.\"),\n",
    "        1..=2 => println!(\"You are a toddler.\"),\n",
    "        3..=4 => println!(\"You are a preschooler.\"),\n",
    "        5..=9 => println!(\"You are a schoolchild.\"),\n",
    "        10..=11 => println!(\"You are a preteen.\"),\n",
    "        12..=17 => println!(\"You are a teenager.\"),\n",
    "        18..=100 => println!(\"You are an adult.\"),\n",
    "        _ => (),\n",
    "    }\n",
    "}\n"
   ]
  },
  {
   "cell_type": "markdown",
   "id": "a7b8917b",
   "metadata": {},
   "source": [
    "## 3.4 if let 和 while let模式匹配\n",
    "\n",
    "Rust提供了if let和while let模式匹配，在某些场景中可替代match模式匹配来简化代码。\n",
    "\n",
    "match_value函数仅要求对Some(7)进行匹配操作，并不要求处理其他情况，但是为了满足match模式穷尽匹配的要求，必须在处理Some(7)分支后加上“=> ()”分支。if_let_value函数使用if let简化了这一处理逻辑。if let后紧跟的表达式中，左侧为匹配模式，右侧为要匹配的值，两者通过等号分隔开。这里左侧的匹配模式对应match的一个分支，可以将if let视为match的语法糖，仅当匹配某一模式时执行代码，并忽略其他所有模式。"
   ]
  },
  {
   "cell_type": "code",
   "execution_count": null,
   "id": "066e5a76",
   "metadata": {
    "vscode": {
     "languageId": "rust"
    }
   },
   "outputs": [],
   "source": [
    "//if let vs match\n",
    "{\n",
    "    fn match_value(value: Option<i32>) {\n",
    "        match value {\n",
    "            Some(7) => println!(\"seven\"),\n",
    "            _ => (),\n",
    "        }\n",
    "    }\n",
    "\n",
    "    fn if_let_value(value: Option<i32>) {\n",
    "        if let Some(7) = value {\n",
    "            println!(\"seven\");\n",
    "        }\n",
    "    }\n",
    "}\n"
   ]
  },
  {
   "cell_type": "markdown",
   "id": "5b8e6b4a",
   "metadata": {},
   "source": [
    "match_vec函数通过loop循环遍历动态数组vec，将元素依次取出并打印。pop方法返回Option类型，因此使用match模式匹配，Some(value)匹配vec中的元素，None匹配vec被取空的情况。while_let_vec函数使用while let简化了这一处理逻辑。while let后紧跟的表达式中，左侧为匹配模式，右侧为要匹配的值，两者通过等号分隔开。当vec中的元素被取空时，while循环会自动退出。"
   ]
  },
  {
   "cell_type": "code",
   "execution_count": null,
   "id": "c5e15a67",
   "metadata": {
    "vscode": {
     "languageId": "rust"
    }
   },
   "outputs": [],
   "source": [
    "//while let vs loop match\n",
    "{\n",
    "    fn match_vec() {\n",
    "        let mut vec = vec![1, 2, 3, 4, 5];\n",
    "        loop {\n",
    "            match vec.pop() {\n",
    "                Some(value) => println!(\"{}\", value),\n",
    "                None => {\n",
    "                    break;\n",
    "                }\n",
    "            }\n",
    "        }\n",
    "    }\n",
    "\n",
    "    fn while_let_vec() {\n",
    "        let mut vec = vec![1, 2, 3, 4, 5];\n",
    "        while let Some(value) = vec.pop() {\n",
    "            println!(\"{}\", value);\n",
    "        }\n",
    "    }\n",
    "}\n"
   ]
  },
  {
   "cell_type": "markdown",
   "id": "27c312eb",
   "metadata": {},
   "source": [
    "## 小结\n",
    "本章介绍了使用条件判断和循环对代码进行流程控制，其中条件判断包括if、if-else和if-else if-else，循环包括loop、while和for；然后介绍了使用continue语句和break语句控制循环流程；最后介绍了match模式匹配的应用，以及在某些场景中使用if let和while let模式匹配替代match模式匹配来简化代码。"
   ]
  },
  {
   "cell_type": "markdown",
   "id": "8a4eca28",
   "metadata": {},
   "source": [
    "# 4 函数、闭包与迭代器\n",
    "\n",
    "函数之所以普遍且重要是因为操作系统进程执行模型大多是基于“栈”的，编译器只需处理好函数的参数和返回值就能让其在栈上运行。\n",
    "\n",
    "函数作为一等公民，本身就是一种类型。\n",
    "函数类型变量可以作为其他函数的参数或返回值，也可以赋值给别的变量，还可以直接调用执行。"
   ]
  },
  {
   "cell_type": "markdown",
   "id": "7f62c89c",
   "metadata": {},
   "source": [
    "## 4.1 函数\n",
    "\n",
    "### 4.1.1 定义函数\n",
    "\n",
    "\n",
    "函数名建议使用snake case规范风格，所有字母都是小写并使用下划线分隔单词\n",
    "\n",
    "返回值类型也不是必需的，如果函数需要返回某个值，应在函数签名中指定返回值类型"
   ]
  },
  {
   "cell_type": "code",
   "execution_count": null,
   "id": "f78e44a1",
   "metadata": {
    "vscode": {
     "languageId": "rust"
    }
   },
   "outputs": [],
   "source": [
    "{\n",
    "    fn add(x: i32, y: i32) -> i32 {\n",
    "        x + y\n",
    "    }\n",
    "    //fn main()\n",
    "    {\n",
    "        let x = 5;\n",
    "        let y = {\n",
    "            let x = 3;\n",
    "            x + 1\n",
    "        };\n",
    "\n",
    "        let sum = add(x, y);\n",
    "        println!(\"{}+{}={}\", x, y, sum);\n",
    "    }\n",
    "}\n"
   ]
  },
  {
   "cell_type": "markdown",
   "id": "9073482c",
   "metadata": {},
   "source": [
    "1. main函数是程序的入口点。对于二进制可执行文件来说，main函数是必不可少的。对于库函数来说，main函数不是必需的。\n",
    "\n",
    "2. 第8～11行代码赋值语句的右侧是一个代码块，它的返回值是3，这个值与变量y绑定。需要注意的是，第10行代码中“x+1”的结尾没有分号，代表这是一个表达式而非语句，将会自动返回表达式的值。\n",
    "\n",
    "3. Rust要求函数参数必须明确指定数据类型，但不能指定默认值。函数参数分为可变和不可变参数，默认是不可变参数。当需要可变操作时，可以使用mut关键字。函数如果有多个参数，可以使用逗号分隔。\n",
    "\n",
    "4. 函数只能有唯一的返回值，如果需要返回多个值，可以使用元组类型。Rust中每个函数都有返回值，即使是没有显式返回值的函数，也会隐式地返回一个单元值().\n",
    "> 大部分情况下，函数隐式地返回函数体最后一个表达式的值。add函数体中最后一个表达式“x+y”的值将默认视为函数的返回值，即第2行代码“x+y”等同于“return x+y;”。但是，对于流程控制结构中的循环或条件判断分支，如果需要提前退出函数并返回指定的值，必须显式地使用return语句来返回\n",
    "\n"
   ]
  },
  {
   "cell_type": "markdown",
   "id": "3dd030cc",
   "metadata": {},
   "source": [
    "### 4.1.2 方法和函数\n",
    "方法来自面向对象的编程范式，它表示某个类型实例的行为，使用fn关键字定义.\n",
    "\n",
    "结构体的方法定义在impl块中。需要注意的是，定义在impl块中的不一定是方法，有可能是关联函数。方法要求第一个参数必须是self，它代表调用该方法的结构体实例。在方法中使用&self能够读取实例中的数据，使用&mut self能够向实例中写入数据。使用方法替代函数的最大好处在于组织性，应该将结构体实例所有的行为都一起放入impl块中。\n",
    "\n",
    "关联函数是指在impl块中定义，但又不以self作为参数的函数。它与结构体相关联，但不直接作用于结构体实例，常用作返回一个结构体实例的构造函数。\n"
   ]
  },
  {
   "cell_type": "code",
   "execution_count": null,
   "id": "dc029613",
   "metadata": {
    "vscode": {
     "languageId": "rust"
    }
   },
   "outputs": [],
   "source": [
    "{\n",
    "    #[derive(Debug, PartialEq)]\n",
    "    pub struct Student {\n",
    "        name: &'static str,\n",
    "        score: i32,\n",
    "    }\n",
    "\n",
    "    impl Student {\n",
    "        pub fn new(name: &'static str, score: i32) -> Self {\n",
    "            Student { name, score }\n",
    "        }\n",
    "\n",
    "        pub fn get_name(&self) -> &str {\n",
    "            self.name\n",
    "        }\n",
    "\n",
    "        pub fn set_name(&mut self, name: &'static str) {\n",
    "            self.name = name;\n",
    "        }\n",
    "\n",
    "        pub fn get_score(&self) -> i32 {\n",
    "            self.score\n",
    "        }\n",
    "\n",
    "        pub fn set_score(&mut self, score: i32) {\n",
    "            self.score = score;\n",
    "        }\n",
    "    }\n",
    "    //fn main()\n",
    "    {\n",
    "        let mut student: Student = Student::new(\"zhangsan\", 59);\n",
    "        println!(\"name: {}, score: {}\", student.get_name(), student.get_score());\n",
    "\n",
    "        student.set_score(60);\n",
    "        println!(\"{:?}\", student);\n",
    "    }\n",
    "}\n"
   ]
  },
  {
   "cell_type": "markdown",
   "id": "a1ff5760",
   "metadata": {},
   "source": [
    "### 4.1.3 高阶函数\n",
    "高阶函数是指以函数为参数或返回值的函数，是函数式编程语言最基础的特性。\n",
    "函数是一种类型，函数类型的变量可以像其他类型的变量一样使用，既可以被直接调用执行，也可以作为其他函数的参数或返回值。\n",
    "实现这一切的基础是函数指针，函数指针类型使用fn()来指定。\n",
    "1. 函数指针\n",
    "\n",
    "函数指针是指向函数的指针，其值是函数的地址。\n",
    "\n",
    "必须显式指定函数指针类型fn()"
   ]
  },
  {
   "cell_type": "code",
   "execution_count": null,
   "id": "65c7ef5f",
   "metadata": {
    "vscode": {
     "languageId": "rust"
    }
   },
   "outputs": [],
   "source": [
    "{\n",
    "    fn hello() {\n",
    "        println!(\"hello function pointer!\");\n",
    "    }\n",
    "\n",
    "    //fn main()\n",
    "    {\n",
    "        let fn_ptr: fn() = hello;//等号右侧使用的是函数名hello，而不是hello()，因为hello()是函数调用，返回值是()，而fn()是函数指针类型\n",
    "        println!(\"{:p}\", fn_ptr);\n",
    "        let other_fn = hello;\n",
    "        //println!(\"{:p}\", other_fn);\n",
    "        fn_ptr();\n",
    "        other_fn();\n",
    "    }\n",
    "}\n"
   ]
  },
  {
   "cell_type": "markdown",
   "id": "0c4cd5b5",
   "metadata": {
    "vscode": {
     "languageId": "rust"
    }
   },
   "source": [
    "2. 函数作参数\n",
    "\n",
    "函数作为参数时，为了提升代码可读性，可以使用type关键字为函数指针类型定义别名。\n"
   ]
  },
  {
   "cell_type": "code",
   "execution_count": null,
   "id": "0744cfae",
   "metadata": {
    "vscode": {
     "languageId": "rust"
    }
   },
   "outputs": [],
   "source": [
    "{\n",
    "    //使用type关键字为函数指针类型fn(i32, i32) -> i32定义了别名MathOp\n",
    "    type MathOp = fn(i32, i32) -> i32;\n",
    "    fn math(op: MathOp, x: i32, y: i32) -> i32 {\n",
    "        println!(\"{:p}\", op);\n",
    "        op(x, y)\n",
    "    }\n",
    "\n",
    "    fn add(x: i32, y: i32) -> i32 {\n",
    "        x + y\n",
    "    }\n",
    "\n",
    "    fn subtract(x: i32, y: i32) -> i32 {\n",
    "        x - y\n",
    "    }\n",
    "\n",
    "    //fn main()\n",
    "    //调用math函数，并传入add或subtract函数作为实参，它们会自动转换成函数指针类型\n",
    "    {\n",
    "        let (x, y) = (8, 3);\n",
    "        println!(\"add operation result: {}\", math(add, x, y));\n",
    "        println!(\"subtraction operation result: {}\", math(subtract, x, y));\n",
    "    }\n",
    "}\n"
   ]
  },
  {
   "cell_type": "markdown",
   "id": "21692c55",
   "metadata": {},
   "source": [
    "3. 函数作返回值\n",
    "\n",
    "函数作为返回值时，也可以使用type关键字为函数指针类型定义别名"
   ]
  },
  {
   "cell_type": "code",
   "execution_count": null,
   "id": "ce8b7f85",
   "metadata": {
    "vscode": {
     "languageId": "rust"
    }
   },
   "outputs": [],
   "source": [
    "{\n",
    "    //math_op函数的返回值是函数指针类型，函数体中使用match模式匹配，\n",
    "    //如果字符串字面量是“add”则返回add函数，否则返回subtract函数。\n",
    "    type MathOp = fn(i32, i32) -> i32;\n",
    "    fn math_op(op: &str) -> MathOp {\n",
    "        match op {\n",
    "            \"add\" => add,\n",
    "            _ => subtract,\n",
    "        }\n",
    "    }\n",
    "\n",
    "    fn add(x: i32, y: i32) -> i32 {\n",
    "        x + y\n",
    "    }\n",
    "\n",
    "    fn subtract(x: i32, y: i32) -> i32 {\n",
    "        x - y\n",
    "    }\n",
    "\n",
    "    //fn main()\n",
    "    {\n",
    "        let (x, y) = (8, 3);\n",
    "\n",
    "        let mut op = math_op(\"add\");\n",
    "        println!(\"operation result: {}\", op(x, y));\n",
    "\n",
    "        op = math_op(\"divide\");\n",
    "        println!(\"operation result: {}\", op(x, y));\n",
    "    }\n",
    "}\n"
   ]
  },
  {
   "cell_type": "markdown",
   "id": "5bb19c00",
   "metadata": {},
   "source": [
    "## 4.2 闭包\n",
    "\n",
    "闭包是在一个函数内创建的匿名函数，虽然没有函数名，但可以将闭包赋值给一个变量，通过调用该变量完成闭包的调用。对于只使用一次的函数，使用闭包是最佳的替代方案。此外，闭包可以访问外层函数中的变量，即闭包是一个可以捕获外部环境变量的函数。外部环境变量是指闭包定义时所在的作用域中的变量，而非在闭包内定义的变量。\n",
    "\n",
    "### 4.2.1 基本语法 \n",
    "\n",
    "闭包由管道符“||”和大括号“{}”组合而成。\n",
    "\n",
    "管道符中指定闭包的参数，如果有多个参数，使用逗号分隔。闭包的参数类型可以省略。\n",
    "管道符后可以指定返回值类型，但不是必需的。大括号即闭包体，用来存放执行语句。如果闭包体只有一行，大括号也可以省略。闭包体中最后一个表达式的值默认为闭包的返回值。"
   ]
  },
  {
   "cell_type": "code",
   "execution_count": null,
   "id": "d094a6ac",
   "metadata": {
    "vscode": {
     "languageId": "rust"
    }
   },
   "outputs": [],
   "source": [
    "{\n",
    "    let add_one = |x: u32| -> u32 { x + 1 };\n",
    "    //let add_one = |x| x + 1;\n",
    "    println!(\"{}\", add_one(1));\n",
    "}\n"
   ]
  },
  {
   "cell_type": "markdown",
   "id": "d57a72cd",
   "metadata": {},
   "source": [
    "### 4.2.2　类型推断\n",
    "\n",
    "  闭包并不像函数那样严格要求为参数和返回值注明类型，这是因为闭包通常只应用于相对较小的场景上下文，编译器能可靠地推断参数和返回值的类型。\n",
    "  > 虽然编译器会为每个参数和返回值推断出一个具体的类型，但是如果多次调用同一闭包却传递不同类型的参数将会导致类型错误。"
   ]
  },
  {
   "cell_type": "code",
   "execution_count": null,
   "id": "01fb2499",
   "metadata": {
    "vscode": {
     "languageId": "rust"
    }
   },
   "outputs": [],
   "source": [
    "{\n",
    "    //下面是对具有相同行为的函数与闭包的纵向对比\n",
    "    fn add_one_v1(x: u32) -> u32 {\n",
    "        x + 1\n",
    "    }\n",
    "    let add_one_v2 = |x: u32| -> u32 { x + 1 };\n",
    "    let add_one_v3 = |x| { x + 1 };\n",
    "    let add_one_v4 = |x| x + 1;\n",
    "}\n"
   ]
  },
  {
   "cell_type": "code",
   "execution_count": null,
   "id": "0b179454",
   "metadata": {
    "vscode": {
     "languageId": "rust"
    }
   },
   "outputs": [
    {
     "data": {
      "text/plain": [
       "()"
      ]
     },
     "execution_count": 13,
     "metadata": {},
     "output_type": "execute_result"
    }
   ],
   "source": [
    "{   //多次调用同一闭包却传递不同类型的参数导致错误\n",
    "    let add_one_v4 = |x| x + 1;\n",
    "    let i = add_one_v4(1);//i32\n",
    "    //let f = add_one_v4(1.1);//f64\n",
    "}\n"
   ]
  },
  {
   "cell_type": "markdown",
   "id": "b8a3bc0c",
   "metadata": {},
   "source": [
    "### 4.2.3　捕获环境变量\n",
    "\n",
    "闭包和函数的最大区别是，闭包可以捕获和使用其被定义时所在的作用域中的变量。"
   ]
  },
  {
   "cell_type": "code",
   "execution_count": 14,
   "id": "7fa8f042",
   "metadata": {
    "vscode": {
     "languageId": "rust"
    }
   },
   "outputs": [
    {
     "name": "stdout",
     "output_type": "stream",
     "text": [
      "add result: 8\n"
     ]
    },
    {
     "data": {
      "text/plain": [
       "()"
      ]
     },
     "execution_count": 14,
     "metadata": {},
     "output_type": "execute_result"
    }
   ],
   "source": [
    "//fn main()\n",
    "{\n",
    "    let i = 1;\n",
    "    let add = |x| { x + i };//捕获外部变量i\n",
    "\n",
    "    println!(\"add result: {}\", add(7));\n",
    "}\n"
   ]
  },
  {
   "cell_type": "markdown",
   "id": "275fb379",
   "metadata": {},
   "source": [
    "## 4.3　迭代器\n",
    "之前使用过for循环来遍历数据集合，并对每个元素执行指定的操作，但这一过程必须使用一个变量记录数据集合中每一次访问的位置。对于这种场景，推荐使用迭代器模式来遍历数据集合。\n",
    "\n",
    "迭代器模式是将遍历数据集合的行为抽象为单独的迭代对象，这样在遍历集合时可以把集合中所有元素按顺序传递给处理逻辑。\n",
    "  \n",
    "使用迭代器可以极大地简化数据操作，本节会介绍Rust中的迭代器模式，以及与迭代器配合使用的消费器和适配器。"
   ]
  },
  {
   "cell_type": "code",
   "execution_count": null,
   "id": "a9ea9a89",
   "metadata": {
    "vscode": {
     "languageId": "rust"
    }
   },
   "outputs": [],
   "source": []
  }
 ],
 "metadata": {
  "jupytext": {
   "cell_metadata_filter": "-all",
   "main_language": "rust",
   "notebook_metadata_filter": "-all"
  },
  "kernelspec": {
   "display_name": "Rust",
   "language": "rust",
   "name": "rust"
  },
  "language_info": {
   "codemirror_mode": "rust",
   "file_extension": ".rs",
   "mimetype": "text/rust",
   "name": "Rust",
   "pygment_lexer": "rust",
   "version": ""
  }
 },
 "nbformat": 4,
 "nbformat_minor": 5
}
