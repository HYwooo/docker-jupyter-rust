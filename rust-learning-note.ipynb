{
 "cells": [
  {
   "cell_type": "markdown",
   "id": "81733df9",
   "metadata": {},
   "source": [
    "# Rust Learning Note\n",
    "\n",
    "# 1 Cargo\n",
    "\n",
    "略\n",
    "\n",
    "# 2 变量与数据类型\n",
    "\n",
    "## 2.1 变量与可变性"
   ]
  },
  {
   "cell_type": "code",
   "execution_count": 29,
   "id": "da8d92e2",
   "metadata": {
    "vscode": {
     "languageId": "rust"
    }
   },
   "outputs": [],
   "source": [
    "let x: i8 = 1; //声明不可变变量\n",
    "let mut y: i8 = 3; //声明可变变量\n"
   ]
  },
  {
   "cell_type": "markdown",
   "id": "01c17cbe",
   "metadata": {},
   "source": [
    "> 常量：用const声明，大写字母+下划线，必须指定数据类型。编译时被赋值。\n",
    "\n",
    "> Q：可变变量，不可变变量和const的区别是什么？\n",
    "\n",
    "| **特性**     | **可变变量 (`mut`)** | **不可变变量（默认）** | **常量 (`const`)** |\n",
    "| ------------ | -------------------- | ---------------------- | ------------------ |\n",
    "| **可变性**   | 可修改               | 不可修改               | 不可修改           |\n",
    "| **作用域**   | 局部作用域           | 局部作用域             | 全局作用域         |\n",
    "| **初始化**   | 可延迟初始化         | 可延迟初始化           | 必须立即初始化     |\n",
    "| **内存分配** | 栈或堆               | 栈或堆                 | 编译时内联         |\n",
    "| **类型推断** | 支持                 | 支持                   | 不支持，需显式指定 |\n",
    "| **使用场景** | 需要改变值的场景     | 值不变的安全场景       | 全局常量或配置参数 |\n",
    "\n",
    "---\n",
    "\n",
    "> 变量遮蔽：通过 **`let`** 声明新的变量，只不过名称恰好与之前的相同，但是是完全不同的变量，位于不同内存空间\n",
    "\n",
    "## 2.2 基本数据类型\n",
    "\n",
    "- 数字可用 _ 分隔\n",
    "- f32 → 小数点后6位有效数字；f64 → 15位"
   ]
  },
  {
   "cell_type": "code",
   "execution_count": 30,
   "id": "7e37fb55",
   "metadata": {
    "vscode": {
     "languageId": "rust"
    }
   },
   "outputs": [],
   "source": [
    "let float1: f32 = 1.1; //类型声明\n",
    "let float2 = 2.2f32; //类型后缀声明\n",
    "let float3 = 3.3; //默认f64\n"
   ]
  },
  {
   "cell_type": "markdown",
   "id": "4087b70d",
   "metadata": {},
   "source": [
    "**Bool**"
   ]
  },
  {
   "cell_type": "code",
   "execution_count": 31,
   "id": "cd664983",
   "metadata": {
    "vscode": {
     "languageId": "rust"
    }
   },
   "outputs": [],
   "source": [
    "let t: bool = true; //显式声明\n",
    "let f = false; //隐式声明\n"
   ]
  },
  {
   "cell_type": "markdown",
   "id": "3fc0ef35",
   "metadata": {},
   "source": [
    "**字符类型**\n",
    "\n",
    "略\n",
    "\n",
    "**范围类型**"
   ]
  },
  {
   "cell_type": "code",
   "execution_count": 32,
   "id": "dc28c7d0",
   "metadata": {
    "vscode": {
     "languageId": "rust"
    }
   },
   "outputs": [],
   "source": [
    "//(1..5) //左闭右开 1~4\n",
    "//(1..=5)//闭区间   1~5\n",
    "//rev()方法 反转顺序\n",
    "//(1..5).rev();  // 4 3 2 1\n",
    "//sum()方法 求和\n",
    "//(1..=5).sum(); // 15\n"
   ]
  },
  {
   "cell_type": "markdown",
   "id": "93275025",
   "metadata": {},
   "source": [
    "## 2.3 复合数据类型\n",
    "\n",
    "### **元组 Tuple**\n",
    "\n",
    "用小括号放在一起，长度固定，元素间逗号分隔。\n",
    "\n",
    "若显式指定数据类型，则元素个数必须与数据类型个数相同。\n",
    "\n",
    "用 “元组名.索引”访问"
   ]
  },
  {
   "cell_type": "code",
   "execution_count": null,
   "id": "61665fc5",
   "metadata": {
    "vscode": {
     "languageId": "rust"
    }
   },
   "outputs": [],
   "source": [
    "let tup: (i32, f64, u8) = (500, 6.4, 1);\n",
    "let tup2 = (7.7, (false, 10));\n",
    "println!(\"{}\", tup2.1.1);\n",
    "\n",
    "let (x, y, z) = tup; //模式匹配\n",
    "println!(\"The value of y is: {}\", y);\n"
   ]
  },
  {
   "cell_type": "markdown",
   "id": "2ac57d2e",
   "metadata": {},
   "source": [
    "### **数组 Array**\n",
    "\n",
    "使用“数组名[索引]”访问；\n",
    "\n",
    "当你明确元素数量不需要改变时，数组会比 **Vector（可变数组）** 更有用"
   ]
  },
  {
   "cell_type": "code",
   "execution_count": 34,
   "id": "8ac741c7",
   "metadata": {
    "vscode": {
     "languageId": "rust"
    }
   },
   "outputs": [],
   "source": [
    "let arr: [i32; 5] = [1, 2, 3, 4, 5];\n",
    "let arr = [1, 2, 3, 4, 5]; //类型推断\n",
    "let arr = [1; 5]; //等价于let arr = [1,1,1,1,1];\n"
   ]
  },
  {
   "cell_type": "markdown",
   "id": "a6c0ba75",
   "metadata": {},
   "source": [
    "> 数组使用无效值索引：导致**运行时**（*runtime*）错误\n",
    "\n",
    "\n",
    "\n",
    "### **struct 结构体**\n",
    "\n",
    "用“name:type”定义字段；字段默认不可变，要求明确指定数据类型，以逗号分隔，最后一个逗号可省略。\n",
    "\n",
    "字段初始化时，使用“name:value”格式"
   ]
  },
  {
   "cell_type": "code",
   "execution_count": 35,
   "id": "6ea58454",
   "metadata": {
    "vscode": {
     "languageId": "rust"
    }
   },
   "outputs": [],
   "source": [
    "//链表\n",
    "#[derive(Debug)]\n",
    "struct ListNode {\n",
    "    val: i32,\n",
    "    next: Option<Box<ListNode>>,\n",
    "}\n",
    "//next的类型是指向ListNode结构体本身的智能指针\n",
    "\n",
    "let list = ListNode {\n",
    "    val: 114,\n",
    "    next: None,\n",
    "};\n",
    "let list2 = ListNode {\n",
    "    val: 514,\n",
    "    ..list\n",
    "};\n",
    "//结构体更新语法，未显式指定值的字段使用list实例相同字段的值\n",
    "\n",
    "//元组结构体\n",
    "struct Color(i32, i32, i32);\n",
    "let black = Color(0, 0, 0);\n"
   ]
  },
  {
   "cell_type": "markdown",
   "id": "33116b30",
   "metadata": {},
   "source": [
    "### **enum 枚举类型**\n",
    "\n",
    "使用enum关键字和自定义命名来定义\n",
    "\n",
    "使用“枚举名::枚举值”访问枚举值\n",
    "\n",
    "分为无参数枚举类型和有参数枚举类型"
   ]
  },
  {
   "cell_type": "code",
   "execution_count": 36,
   "id": "7f7c54d8",
   "metadata": {
    "vscode": {
     "languageId": "rust"
    }
   },
   "outputs": [],
   "source": [
    "//无参数枚举类型\n",
    "#[derive(Debug)] //实现Debug trait\n",
    "enum ColorNoParam {\n",
    "    Red,\n",
    "    Yellow,\n",
    "    Blue,\n",
    "}\n",
    "\n",
    "fn main() {\n",
    "    let color_no_param = ColorNoPAram::Red;\n",
    "}\n",
    "\n",
    "//带参数枚举类型\n",
    "#[derive(Debug)] //实现Debug trait\n",
    "enum ColorParam {\n",
    "    Red(String),\n",
    "    Yellow(String),\n",
    "    Blue(String),\n",
    "}\n",
    "\n",
    "fn main() {\n",
    "    println!(\"{:?}\", ColorParam::Blue(String::from(\"blue\"))); //Blue(\"blue\")\n",
    "}\n"
   ]
  },
  {
   "cell_type": "markdown",
   "id": "a08f9b68",
   "metadata": {},
   "source": [
    "## 2.4 容器类型\n",
    "\n",
    "std::collections提供4种通用容器类型\n",
    "\n",
    "Vec，VecDeque和HashMap最常用\n",
    "\n",
    "|  容器         |  描述        |    容器                         |\n",
    "|---------------|---------------|--------------------------------|\n",
    "| Vec<T>        | 连续存储的可变长数组 | 线性序列                       |\n",
    "| VecDeque<T>   | 连续存储的可变长双端队列 | 线性序列                       |\n",
    "| LinkedList<T> | 非连续存储的双向链表 | 线性序列                       |\n",
    "| HashMap<K,V>  | 基于哈希表的无序键-值对 | 键-值对                        |\n",
    "| BTreeMap<K,V> | 基于B树的有序键-值对，按Key排序 | 键-值对                        |\n",
    "| HashSet<T>    | 基于哈希表的无序集合 | 集合                           |\n",
    "| BTreeSet<T>   | 基于B树的有序集合 | 集合                           |\n",
    "| BinaryHeap<T> | 基于二叉堆的优先队列 | 优先队列                       |\n",
    "\n",
    "---\n",
    "\n",
    "### Vec  动态（可变长）数组\n",
    "\n",
    "连续内存块，存储同类型元素"
   ]
  },
  {
   "cell_type": "code",
   "execution_count": 37,
   "id": "0677f439",
   "metadata": {
    "vscode": {
     "languageId": "rust"
    }
   },
   "outputs": [],
   "source": [
    "let mut v: Vec<i32> = Vec::new(); //创建空Vec\n",
    "let mut v: Vec<i32> = Vec::with_capacity(10); //创建容量为10的Vec\n"
   ]
  },
  {
   "cell_type": "markdown",
   "id": "c59685e7",
   "metadata": {},
   "source": [
    "\n",
    "\n",
    "容量是为了存储元素所分配的内存空间量\n",
    "长度是数组中实际的元素个数\n",
    "\n",
    "动态数组长度超过容量时，需要重新分配更大容量"
   ]
  },
  {
   "cell_type": "code",
   "execution_count": 38,
   "id": "ffa7edd9",
   "metadata": {
    "vscode": {
     "languageId": "rust"
    }
   },
   "outputs": [],
   "source": [
    "//使用vec!宏，在创建Vec的同时进行初始化，并根据初始值自动推断类型\n",
    "let mut v: Vec<i32> = vec![]; //空数组，没有元素，无法推断，需要声明类型\n",
    "\n",
    "let mut v = vec![1, 2, 3]; //自动推断为i32类型\n",
    "\n",
    "let mut v = vec![0; 10]; //创建长度为10，元素为0的Vec\n"
   ]
  },
  {
   "cell_type": "markdown",
   "id": "acd0cd95",
   "metadata": {},
   "source": [
    "**动态数组的修改**\n",
    "\n",
    "\n",
    "使用push方法在数组尾部添加元素\n",
    "\n",
    "修改指定索引元素值\n",
    "\n"
   ]
  },
  {
   "cell_type": "code",
   "execution_count": null,
   "id": "2039f881",
   "metadata": {
    "vscode": {
     "languageId": "rust"
    }
   },
   "outputs": [],
   "source": [
    "let mut v: Vec<i32> = Vec::new(); //声明空Vec\n",
    "\n",
    "v.push(1); //添加元素\n",
    "v.push(2);\n",
    "v.push(3);\n",
    "println!(\"{:?}\", v); //输出[1,2,3]\n",
    "\n",
    "v[1] = 5; //修改元素\n",
    "println!(\"{:?}\", v); //输出[1,5,3]\n"
   ]
  },
  {
   "cell_type": "markdown",
   "id": "0b098743",
   "metadata": {},
   "source": [
    "\n",
    "\n",
    "使用pop方法删除元素\n",
    "\n"
   ]
  },
  {
   "cell_type": "code",
   "execution_count": null,
   "id": "2210d48d",
   "metadata": {
    "vscode": {
     "languageId": "rust"
    }
   },
   "outputs": [],
   "source": [
    "let mut v: Vec<i32> = Vec::with_capacity(10); //声明容量为10的Vec\n",
    "v.push(1); //添加元素\n",
    "v.push(2);\n",
    "v.push(3);\n",
    "println!(\"e:{:?}\", v.pop()); //弹出最后一个元素，输出Some(3)\n"
   ]
  },
  {
   "cell_type": "markdown",
   "id": "e919f86c",
   "metadata": {
    "vscode": {
     "languageId": "rust"
    }
   },
   "source": [
    "使用remove方法删除并返回元素，同时将其后面所有元素左移。索引越界将导致错误。"
   ]
  },
  {
   "cell_type": "code",
   "execution_count": null,
   "id": "a7a2a5fe",
   "metadata": {
    "vscode": {
     "languageId": "rust"
    }
   },
   "outputs": [],
   "source": [
    "let mut v: Vec<i32> = Vec::with_capacity(10); //声明容量为10的Vec\n",
    "v.push(1); //添加元素\n",
    "v.push(2);\n",
    "v.push(3);\n",
    "println!(\"e:{:?}\", v.remove(1)); //移除索引为1的元素，输出2\n"
   ]
  },
  {
   "cell_type": "markdown",
   "id": "ad7552cd",
   "metadata": {},
   "source": [
    "动态数组的访问"
   ]
  },
  {
   "cell_type": "code",
   "execution_count": null,
   "id": "747ff516",
   "metadata": {
    "vscode": {
     "languageId": "rust"
    }
   },
   "outputs": [],
   "source": [
    "let v = vec![1, 2, 3];\n",
    "\n",
    "println!(\"e:{}\", v[2]); //使用 实例名[索引] 访问元素\n",
    "\n",
    "//println!(\"e:{}\", v[10]);//越界访问，panic\n"
   ]
  },
  {
   "cell_type": "code",
   "execution_count": null,
   "id": "238cade2",
   "metadata": {
    "vscode": {
     "languageId": "rust"
    }
   },
   "outputs": [],
   "source": [
    "let v = vec![1, 2, 3];\n",
    "println!(\"e:{:?}\", v.get(2)); //使用get方法访问元素 返回Some(3)\n",
    "\n",
    "println!(\"e:{:?}\", v.get(10)); //越界访问，返回None\n"
   ]
  },
  {
   "cell_type": "markdown",
   "id": "703f6d98",
   "metadata": {},
   "source": [
    "for遍历所有元素"
   ]
  },
  {
   "cell_type": "code",
   "execution_count": null,
   "id": "cf86c4b2",
   "metadata": {
    "vscode": {
     "languageId": "rust"
    }
   },
   "outputs": [],
   "source": [
    "let v = vec![10, 20, 30];\n",
    "for i in v {\n",
    "    println!(\"{}\", i);\n",
    "}\n",
    "\n",
    "let mut v = vec![100, 200, 300];\n",
    "for i in &mut v {\n",
    "    *i += 50;\n",
    "    println!(\"{}\", i);\n",
    "}\n"
   ]
  },
  {
   "cell_type": "markdown",
   "id": "3b098cbe",
   "metadata": {},
   "source": [
    "### VecDeque 双端队列\n",
    "\n",
    "同时具有栈（先进后出）和队列（先进先出）特征，适用于只能在队列两端添加或删除元素操作的应用场景。\n",
    "\n",
    "定义在std::collections中"
   ]
  },
  {
   "cell_type": "code",
   "execution_count": 45,
   "id": "9c2ce8fc",
   "metadata": {
    "vscode": {
     "languageId": "rust"
    }
   },
   "outputs": [],
   "source": [
    "use std::collections::VecDeque;\n",
    "let mut v: VecDeque<i32> = VecDeque::new(); //创建空VecDeque\n",
    "let mut v: VecDeque<i32> = VecDeque::with_capacity(10); //声明容量为10的VecDeque\n"
   ]
  },
  {
   "cell_type": "markdown",
   "id": "d5404af2",
   "metadata": {},
   "source": [
    "修改VecDeque的常见操作由添加元素，修改指定索引和删除元素"
   ]
  },
  {
   "cell_type": "code",
   "execution_count": null,
   "id": "d93d54a6",
   "metadata": {
    "vscode": {
     "languageId": "rust"
    }
   },
   "outputs": [],
   "source": [
    "use std::collections::VecDeque;\n",
    "let mut v: VecDeque<u32> = VecDeque::new(); //创建空VecDeque\n",
    "v.push_back(1); //尾部添加元素\n",
    "v.push_back(2);\n",
    "v.push_back(3);\n",
    "\n",
    "v.push_front(1); //头部添加元素\n",
    "v.push_front(2);\n",
    "v.push_front(3);\n",
    "println!(\"{:?}\", v); //输出Deque([3, 2, 1, 1, 2, 3])\n",
    "\n",
    "v[1] = 5; //修改元素\n",
    "println!(\"{:?}\", v); //输出Deque([3, 5, 1, 1, 2, 3])\n",
    "\n",
    "println!(\"e:{:?}\", v.pop_back()); //弹出尾部元素，输出Some(3)\n",
    "println!(\"e:{:?}\", v.pop_front()); //弹出头部元素，输出Some(3)\n",
    "//[5, 1, 1, 2]\n",
    "println!(\"e:{:?}\", v.remove(1).unwrap()); //移除索引为1的元素，返回Some(3)\n",
    "println!(\"e:{:?}\", v.remove(10)); //移除索引为10的元素，越界，返回None\n"
   ]
  },
  {
   "cell_type": "code",
   "execution_count": null,
   "id": "ed42b050",
   "metadata": {
    "vscode": {
     "languageId": "rust"
    }
   },
   "outputs": [],
   "source": [
    "println!(\"e:{:?}\", v[2]); //使用get方法访问元素 返回2\n",
    "//println!(\"e:{:?}\", v[10]); //越界 panic\n",
    "println!(\"e:{:?}\", v.get(2)); //使用get方法访问元素 返回Some(2)\n",
    "println!(\"e:{:?}\", v.get(10)); //越界访问，返回None\n"
   ]
  },
  {
   "cell_type": "markdown",
   "id": "1bc5a59e",
   "metadata": {},
   "source": [
    "### 哈希表 Hashmap\n",
    "\n",
    "存储K-V值，所有的Key同类型，所有的Value同类型。不允许有重复的键。"
   ]
  },
  {
   "cell_type": "code",
   "execution_count": null,
   "id": "60985b57",
   "metadata": {
    "vscode": {
     "languageId": "rust"
    }
   },
   "outputs": [],
   "source": [
    "use std::collections::HashMap;\n",
    "//创建Hashmap\n",
    "let mut map: HashMap<&str, i32> = HashMap::new(); //创建空HashMap\n",
    "let mut map: HashMap<&str, i32> = HashMap::with_capacity(10); //声明容量为10的HashMap\n",
    "\n",
    "//HashMap的修改\n",
    "//使用insert方法插入（或更新）键值对\n",
    "let zhangsan1 = map.insert(\"zhangsan\", 97); //如果值不存在，执行插入并返回None;若存在，更新值并返回Some(旧值)\n",
    "map.insert(\"lisi\", 86);\n",
    "\n",
    "println!(\"{:?}\", zhangsan1);\n",
    "println!(\"{:?}\", map);\n",
    "\n",
    "let zhangsan2 = map.insert(\"zhangsan\", 79);\n",
    "println!(\"{:?}\", zhangsan2);\n",
    "println!(\"{:?}\", map);\n"
   ]
  },
  {
   "cell_type": "markdown",
   "id": "84bae1cb",
   "metadata": {},
   "source": [
    "使用entry和or_insert方法检查键是否有对应值，没有对应值则插入键值对，若有则不做操作。\n",
    "\n",
    "entry(\"key\") -> Entry\n"
   ]
  },
  {
   "cell_type": "code",
   "execution_count": null,
   "id": "7e86881b",
   "metadata": {
    "vscode": {
     "languageId": "rust"
    }
   },
   "outputs": [],
   "source": [
    "//entry or_insert方法\n",
    "use std::collections::HashMap;\n",
    "//创建Hashmap\n",
    "let mut map: HashMap<&str, i32> = HashMap::new(); //创建空HashMap\n",
    "map.entry(\"zhangsan\").or_insert(97); //如果键不存在，插入键值对\n",
    "map.entry(\"lisi\").or_insert(86);\n",
    "println!(\"{:?}\", map);\n",
    "\n",
    "map.entry(\"zhangsan\").or_insert(79); //键存在，不做操作,返回已有键值对的值\n",
    "println!(\"{:?}\", map);\n"
   ]
  },
  {
   "cell_type": "code",
   "execution_count": null,
   "id": "c00add90",
   "metadata": {
    "vscode": {
     "languageId": "rust"
    }
   },
   "outputs": [],
   "source": [
    "//迭代修改map元素\n",
    "use std::collections::HashMap;\n",
    "let mut map: HashMap<&str, i32> = HashMap::new(); //创建空HashMap\n",
    "\n",
    "map.insert(\"zhangsan\", 97);\n",
    "map.insert(\"lisi\", 86);\n",
    "map.insert(\"wangwu\", 55);\n",
    "println!(\"{:?}\", map);\n",
    "\n",
    "for (_, val) in map.iter_mut() {\n",
    "    *val += 2;\n",
    "}\n",
    "println!(\"{:?}\", map);\n"
   ]
  },
  {
   "cell_type": "code",
   "execution_count": null,
   "id": "10b3747d",
   "metadata": {
    "vscode": {
     "languageId": "rust"
    }
   },
   "outputs": [],
   "source": [
    "//使用remove方法删除并返回指定的键值对\n",
    "use std::collections::HashMap;\n",
    "let mut map: HashMap<&str, i32> = HashMap::new(); //创建空HashMap\n",
    "map.insert(\"zhangsan\", 97);\n",
    "map.insert(\"lisi\", 86);\n",
    "map.insert(\"wangwu\", 55);\n",
    "println!(\"{:?}\", map);\n",
    "let result = map.remove(\"wangwu\");\n",
    "\n",
    "println!(\"{:?}\", map);\n",
    "println!(\"result:{:?}\", result); //删除键值对，返回值\n"
   ]
  },
  {
   "cell_type": "code",
   "execution_count": null,
   "id": "73e254a3",
   "metadata": {
    "vscode": {
     "languageId": "rust"
    }
   },
   "outputs": [],
   "source": [
    "//访问键值对\n",
    "use std::collections::HashMap;\n",
    "let mut map: HashMap<&str, i32> = HashMap::new(); //创建空HashMap\n",
    "map.insert(\"zhangsan\", 97);\n",
    "println!(\"zhangsan:{}\", map[\"zhangsan\"]); //使用[]访问键值对\n",
    "//println!(\"wangwu:{}\",map[\"wangwu\"]); //访问不存在的键，panic\n",
    "\n",
    "println!(\"[get]zhangsan:{:?}\", map.get(\"zhangsan\")); //使用get方法访问键值对\n",
    "println!(\"[get]wangwu:{:?}\", map.get(\"wangwu\")); //使用get方法访问不存在的键，返回None\n"
   ]
  },
  {
   "cell_type": "markdown",
   "id": "36e557b2",
   "metadata": {},
   "source": [
    "## 2.5 字符串\n",
    "\n",
    "字符串有两种，一种是固定长度的字符串字面量str，另一种是可变长度的字符串对象String\n",
    "\n",
    "内置的字符串类型是str，通常以引用的形式&str出现。&str是字符的集合，代表不可变的utf-8字符串引用，创建后无法追加或更改内容。"
   ]
  },
  {
   "cell_type": "code",
   "execution_count": null,
   "id": "371aba30",
   "metadata": {
    "vscode": {
     "languageId": "rust"
    }
   },
   "outputs": [],
   "source": [
    "let s1 = \"Hello,Rust!\"; //字符串字面量\n",
    "{\n",
    "    let str1 = String::from(\"Hello,Rust!\"); //String类型，字符串对象\n",
    "    let s2 = str1.as_str(); //String类型转&str类型\n",
    "    println!(\"{}\", s2);\n",
    "} //s2离开作用域，自动释放内存\n"
   ]
  },
  {
   "cell_type": "markdown",
   "id": "61fe71ef",
   "metadata": {},
   "source": [
    "### 字符串的创建"
   ]
  },
  {
   "cell_type": "code",
   "execution_count": 4,
   "id": "1cd57b85",
   "metadata": {
    "vscode": {
     "languageId": "rust"
    }
   },
   "outputs": [],
   "source": [
    "//创建字符串\n",
    "let mut s = String::new(); //创建空字符串对象\n",
    "let s = String::from(\"Hello,Rust!\"); //根据指定的字符串字面量创建字符串对象\n",
    "let str1 = \"Hello,Rust!\"; //字符串字面量\n",
    "let s = str1.to_string(); //字符串字面量转String类型\n"
   ]
  },
  {
   "cell_type": "markdown",
   "id": "e8fe3f1b",
   "metadata": {},
   "source": [
    "### 字符串的修改"
   ]
  },
  {
   "cell_type": "code",
   "execution_count": null,
   "id": "f117879b",
   "metadata": {
    "vscode": {
     "languageId": "rust"
    }
   },
   "outputs": [],
   "source": [
    "{\n",
    "    let mut s = String::from(\"Hello,\"); //创建字符串对象\n",
    "    s.push('R'); //追加字符\n",
    "    s.push_str(\"ust!\"); //追加字符串\n",
    "    println!(\"{}\", s); //输出Hello,Rust!\n",
    "}\n",
    "\n",
    "{\n",
    "    let mut s = String::from(\"Hello World!\"); //创建字符串对象\n",
    "    s.insert(5, ','); //在索引5处插入字符\n",
    "    s.insert_str(7, \"Rust \"); //在索引7处插入字符串\n",
    "    println!(\"{}\", s); //输出Hello,Rust World!\n",
    "}\n"
   ]
  },
  {
   "cell_type": "markdown",
   "metadata": {},
   "source": [
    "使用 + 或 += 连接字符串"
   ]
  },
  {
   "cell_type": "code",
   "execution_count": 5,
   "id": "2553cb87",
   "metadata": {
    "vscode": {
     "languageId": "rust"
    }
   },
   "outputs": [
    {
     "name": "stdout",
     "output_type": "stream",
     "text": [
      "Hello,Rust World!\n"
     ]
    },
    {
     "data": {
      "text/plain": [
       "()"
      ]
     },
     "execution_count": 5,
     "metadata": {},
     "output_type": "execute_result"
    }
   ],
   "source": [
    "{\n",
    "    let s1 = String::from(\"Hello\");\n",
    "    let s2 = String::from(\",\");\n",
    "    let s3 = String::from(\"Rust \");\n",
    "    let s4 = \"World\";\n",
    "\n",
    "    //String类型不能出现在+右边，因此将其转换为字面量。&s2为&String类型(但连接时会自动解引用为&str)，s3.as_str()为&str类型\n",
    "    let mut s = s1 + &s2 + s3.as_str() + s4; \n",
    "    s += \"!\";\n",
    "    println!(\"{}\", s); //输出Hello,Rust World!\n",
    "}\n"
   ]
  },
  {
   "cell_type": "markdown",
   "id": "7e0ad1af",
   "metadata": {},
   "source": [
    "使用format!连接字符串\n",
    "\n",
    "可用于String和&str类型"
   ]
  },
  {
   "cell_type": "code",
   "execution_count": null,
   "id": "1b0b8c52",
   "metadata": {
    "vscode": {
     "languageId": "rust"
    }
   },
   "outputs": [],
   "source": [
    "{\n",
    "    let s1 = String::from(\"Hello\");\n",
    "    let s2 = String::from(\"Rust\");\n",
    "    let s3 = String::from(\"World\");\n",
    "    \n",
    "\n",
    "}"
   ]
  }
 ],
 "metadata": {
  "jupytext": {
   "cell_metadata_filter": "-all",
   "main_language": "rust",
   "notebook_metadata_filter": "-all"
  },
  "kernelspec": {
   "display_name": "Rust",
   "language": "rust",
   "name": "rust"
  },
  "language_info": {
   "codemirror_mode": "rust",
   "file_extension": ".rs",
   "mimetype": "text/rust",
   "name": "Rust",
   "pygment_lexer": "rust",
   "version": ""
  }
 },
 "nbformat": 4,
 "nbformat_minor": 5
}
